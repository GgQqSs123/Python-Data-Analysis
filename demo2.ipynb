{
 "cells": [
  {
   "cell_type": "code",
   "execution_count": 1,
   "id": "1812290b",
   "metadata": {},
   "outputs": [],
   "source": [
    "import numpy as np"
   ]
  },
  {
   "cell_type": "code",
   "execution_count": 2,
   "id": "cf5d3a0d",
   "metadata": {},
   "outputs": [
    {
     "data": {
      "text/plain": [
       "array([1, 2, 2])"
      ]
     },
     "execution_count": 2,
     "metadata": {},
     "output_type": "execute_result"
    }
   ],
   "source": [
    "# 创建一维数组\n",
    "arr1 = np.array([1,2,2])\n",
    "arr1"
   ]
  },
  {
   "cell_type": "code",
   "execution_count": 6,
   "id": "a3fcceed",
   "metadata": {},
   "outputs": [
    {
     "data": {
      "text/plain": [
       "array([[1, 2, 3],\n",
       "       [4, 5, 6]])"
      ]
     },
     "execution_count": 6,
     "metadata": {},
     "output_type": "execute_result"
    }
   ],
   "source": [
    "# 创建二维数组\n",
    "arr2 = np.array([[1,2,3],[4,5,6]])\n",
    "arr2"
   ]
  },
  {
   "cell_type": "code",
   "execution_count": 13,
   "id": "95693436",
   "metadata": {},
   "outputs": [
    {
     "data": {
      "text/plain": [
       "array([[[1, 2, 3],\n",
       "        [4, 5, 6],\n",
       "        [5, 6, 7]]])"
      ]
     },
     "execution_count": 13,
     "metadata": {},
     "output_type": "execute_result"
    }
   ],
   "source": [
    "# 返回数组维度 ndim\n",
    "arr3 = np.array([[[1,2,3],[4,5,6],[5,6,7]]])\n",
    "arr3\n",
    "# print(arr3.ndim)"
   ]
  },
  {
   "cell_type": "code",
   "execution_count": 12,
   "id": "2c97130e",
   "metadata": {},
   "outputs": [
    {
     "name": "stdout",
     "output_type": "stream",
     "text": [
      "(3,)\n",
      "(2, 3)\n",
      "(1, 3, 3)\n"
     ]
    }
   ],
   "source": [
    "# shape 会返回一个元组表示各个维度的元素的个数\n",
    "print(arr1.shape)\n",
    "print(arr2.shape)\n",
    "print(arr3.shape)"
   ]
  },
  {
   "cell_type": "code",
   "execution_count": 15,
   "id": "7408ee0a",
   "metadata": {},
   "outputs": [
    {
     "data": {
      "text/plain": [
       "'最外层：arr3 是一个包含一个元素的列表（即一个大括号 [] 包裹的内容）。这个元素是一个二维数组。\\n因此，最外层的大小是 1。\\n中间层：这个二维数组包含 3 个子数组（[1, 2, 3], [4, 5, 6], [5, 6, 7]）。\\n因此，中间层的大小是 3。\\n最内层：每个子数组包含 3 个元素。\\n因此，最内层的大小是 3。\\n综合起来，arr3 的形状是 (1, 3, 3)，表示：\\n最外层有 1 个元素（一个二维数组）。\\n这个二维数组有 3 行。\\n每行有 3 个元素。'"
      ]
     },
     "execution_count": 15,
     "metadata": {},
     "output_type": "execute_result"
    }
   ],
   "source": [
    "\"\"\"最外层：arr3 是一个包含一个元素的列表（即一个大括号 [] 包裹的内容）。这个元素是一个二维数组。\n",
    "因此，最外层的大小是 1。\n",
    "中间层：这个二维数组包含 3 个子数组（[1, 2, 3], [4, 5, 6], [5, 6, 7]）。\n",
    "因此，中间层的大小是 3。\n",
    "最内层：每个子数组包含 3 个元素。\n",
    "因此，最内层的大小是 3。\n",
    "综合起来，arr3 的形状是 (1, 3, 3)，表示：\n",
    "最外层有 1 个元素（一个二维数组）。\n",
    "这个二维数组有 3 行。\n",
    "每行有 3 个元素。\"\"\""
   ]
  },
  {
   "cell_type": "code",
   "execution_count": 16,
   "id": "aa5c5ec7",
   "metadata": {},
   "outputs": [
    {
     "name": "stdout",
     "output_type": "stream",
     "text": [
      "3\n",
      "6\n",
      "9\n"
     ]
    }
   ],
   "source": [
    "# size会返回给我们数组里面元素的总个数\n",
    "print(arr1.size)\n",
    "print(arr2.size)\n",
    "print(arr3.size)"
   ]
  },
  {
   "cell_type": "code",
   "execution_count": 18,
   "id": "600177b0",
   "metadata": {},
   "outputs": [
    {
     "name": "stdout",
     "output_type": "stream",
     "text": [
      "int32\n",
      "int32\n"
     ]
    }
   ],
   "source": [
    "# dtype会返回给我们数组元素的类型\n",
    "print(arr1.dtype)\n",
    "print(arr2.dtype)"
   ]
  },
  {
   "cell_type": "code",
   "execution_count": 26,
   "id": "84eb7aa8",
   "metadata": {},
   "outputs": [
    {
     "name": "stdout",
     "output_type": "stream",
     "text": [
      "2D zeros array:\n",
      "[[0. 0. 0.]\n",
      " [0. 0. 0.]]\n"
     ]
    }
   ],
   "source": [
    "# zeros创建元素全部为0的数组\n",
    "np.zeros(3)\n",
    "# ones返回全部为1\n",
    "np.ones(5)\n",
    "zeros_2d = np.zeros((2, 3))\n",
    "print(\"2D zeros array:\")\n",
    "print(zeros_2d)"
   ]
  },
  {
   "cell_type": "code",
   "execution_count": 24,
   "id": "f80ffd8b",
   "metadata": {},
   "outputs": [
    {
     "data": {
      "text/plain": [
       "array([5, 7, 9])"
      ]
     },
     "execution_count": 24,
     "metadata": {},
     "output_type": "execute_result"
    }
   ],
   "source": [
    "# arange表示针对的是arr里面的方法\n",
    "np.arange(5,10,2)\n",
    "# 5起始值，10结束值，2步长 结束值不在范围内"
   ]
  },
  {
   "cell_type": "code",
   "execution_count": null,
   "id": "ab0b255c",
   "metadata": {},
   "outputs": [],
   "source": []
  }
 ],
 "metadata": {
  "kernelspec": {
   "display_name": "Python 3 (ipykernel)",
   "language": "python",
   "name": "python3"
  },
  "language_info": {
   "codemirror_mode": {
    "name": "ipython",
    "version": 3
   },
   "file_extension": ".py",
   "mimetype": "text/x-python",
   "name": "python",
   "nbconvert_exporter": "python",
   "pygments_lexer": "ipython3",
   "version": "3.11.4"
  }
 },
 "nbformat": 4,
 "nbformat_minor": 5
}

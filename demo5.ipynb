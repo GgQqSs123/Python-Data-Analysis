{
 "cells": [
  {
   "cell_type": "code",
   "execution_count": 1,
   "id": "c069dee9",
   "metadata": {},
   "outputs": [],
   "source": [
    "import pandas as pd"
   ]
  },
  {
   "cell_type": "code",
   "execution_count": 2,
   "id": "9c14d94b",
   "metadata": {},
   "outputs": [
    {
     "data": {
      "text/plain": [
       "0     5\n",
       "1    17\n",
       "2     3\n",
       "3    26\n",
       "4    31\n",
       "dtype: int64"
      ]
     },
     "execution_count": 2,
     "metadata": {},
     "output_type": "execute_result"
    }
   ],
   "source": [
    "# 创建Series\n",
    "s1 = pd.Series([5,17,3,26,31])\n",
    "s1"
   ]
  },
  {
   "cell_type": "code",
   "execution_count": 3,
   "id": "de77645d",
   "metadata": {},
   "outputs": [
    {
     "data": {
      "text/plain": [
       "array([ 5, 17,  3, 26, 31], dtype=int64)"
      ]
     },
     "execution_count": 3,
     "metadata": {},
     "output_type": "execute_result"
    }
   ],
   "source": [
    "# 单独获得值使用values\n",
    "s1.values"
   ]
  },
  {
   "cell_type": "code",
   "execution_count": 4,
   "id": "8997fc5b",
   "metadata": {},
   "outputs": [
    {
     "data": {
      "text/plain": [
       "RangeIndex(start=0, stop=5, step=1)"
      ]
     },
     "execution_count": 4,
     "metadata": {},
     "output_type": "execute_result"
    }
   ],
   "source": [
    "# 单独获得索引\n",
    "s1.index"
   ]
  },
  {
   "cell_type": "code",
   "execution_count": 5,
   "id": "18b024ff",
   "metadata": {},
   "outputs": [
    {
     "data": {
      "text/plain": [
       "3"
      ]
     },
     "execution_count": 5,
     "metadata": {},
     "output_type": "execute_result"
    }
   ],
   "source": [
    "# 可以进行切片\n",
    "s1[2]"
   ]
  },
  {
   "cell_type": "code",
   "execution_count": 6,
   "id": "169ea75f",
   "metadata": {},
   "outputs": [
    {
     "data": {
      "text/plain": [
       "1    17\n",
       "2     3\n",
       "dtype: int64"
      ]
     },
     "execution_count": 6,
     "metadata": {},
     "output_type": "execute_result"
    }
   ],
   "source": [
    "s1[1:3]"
   ]
  },
  {
   "cell_type": "code",
   "execution_count": 8,
   "id": "5d35574c",
   "metadata": {},
   "outputs": [
    {
     "data": {
      "text/plain": [
       "a     5\n",
       "d    17\n",
       "b     3\n",
       "c    26\n",
       "e    31\n",
       "dtype: int64"
      ]
     },
     "execution_count": 8,
     "metadata": {},
     "output_type": "execute_result"
    }
   ],
   "source": [
    "# 多了一种索引方法\n",
    "s2=pd.Series([5,17,3,26,31],\n",
    "            index=[\"a\",\"d\",\"b\",\"c\",\"e\"])\n",
    "s2"
   ]
  },
  {
   "cell_type": "code",
   "execution_count": 9,
   "id": "79261fb9",
   "metadata": {},
   "outputs": [
    {
     "data": {
      "text/plain": [
       "3"
      ]
     },
     "execution_count": 9,
     "metadata": {},
     "output_type": "execute_result"
    }
   ],
   "source": [
    "s2[\"b\"]\n",
    "# 用标签索引 切片值是包含的"
   ]
  },
  {
   "cell_type": "code",
   "execution_count": 11,
   "id": "6f6dd5a2",
   "metadata": {},
   "outputs": [
    {
     "data": {
      "text/plain": [
       "3"
      ]
     },
     "execution_count": 11,
     "metadata": {},
     "output_type": "execute_result"
    }
   ],
   "source": [
    "s2[2]\n",
    "# 用位置索引"
   ]
  },
  {
   "cell_type": "code",
   "execution_count": 13,
   "id": "3fbdde1a",
   "metadata": {},
   "outputs": [
    {
     "data": {
      "text/plain": [
       "a     5\n",
       "e    31\n",
       "c    26\n",
       "dtype: int64"
      ]
     },
     "execution_count": 13,
     "metadata": {},
     "output_type": "execute_result"
    }
   ],
   "source": [
    "# 多个元素切片\n",
    "s2[[\"a\",\"e\",\"c\"]]"
   ]
  },
  {
   "cell_type": "code",
   "execution_count": 15,
   "id": "a254c4c4",
   "metadata": {},
   "outputs": [],
   "source": [
    "# loc表示用标签索引取值或切片\n",
    "# iloc表示用位置索引去取直和切片\n"
   ]
  },
  {
   "cell_type": "code",
   "execution_count": 17,
   "id": "92052526",
   "metadata": {},
   "outputs": [
    {
     "data": {
      "text/plain": [
       "青菜     4.1\n",
       "白萝卜    2.2\n",
       "dtype: float64"
      ]
     },
     "execution_count": 17,
     "metadata": {},
     "output_type": "execute_result"
    }
   ],
   "source": [
    "s3=pd.Series({\"青菜\":4.1,\"白萝卜\":2.2})\n",
    "s3"
   ]
  },
  {
   "cell_type": "code",
   "execution_count": 18,
   "id": "c209b28b",
   "metadata": {},
   "outputs": [
    {
     "data": {
      "text/plain": [
       "True"
      ]
     },
     "execution_count": 18,
     "metadata": {},
     "output_type": "execute_result"
    }
   ],
   "source": [
    "\"青菜\" in s3"
   ]
  },
  {
   "cell_type": "code",
   "execution_count": 19,
   "id": "080091c4",
   "metadata": {},
   "outputs": [],
   "source": [
    "# 更改某个值\n",
    "# s3[\"青菜\"]=4.5\n",
    "s3.loc[\"青菜\"]=4.5\n",
    "s3.iloc[0]=4.5"
   ]
  },
  {
   "cell_type": "code",
   "execution_count": 20,
   "id": "4562a8f1",
   "metadata": {},
   "outputs": [
    {
     "data": {
      "text/plain": [
       "青菜     4.5\n",
       "白萝卜    2.2\n",
       "dtype: float64"
      ]
     },
     "execution_count": 20,
     "metadata": {},
     "output_type": "execute_result"
    }
   ],
   "source": [
    "s3"
   ]
  },
  {
   "cell_type": "code",
   "execution_count": 21,
   "id": "8ace718f",
   "metadata": {},
   "outputs": [
    {
     "data": {
      "text/plain": [
       "青菜     4.5\n",
       "白萝卜    2.2\n",
       "dtype: float64"
      ]
     },
     "execution_count": 21,
     "metadata": {},
     "output_type": "execute_result"
    }
   ],
   "source": [
    "s3[(s3>5 | (s3<3))]"
   ]
  },
  {
   "cell_type": "code",
   "execution_count": null,
   "id": "e8757356",
   "metadata": {},
   "outputs": [],
   "source": []
  }
 ],
 "metadata": {
  "kernelspec": {
   "display_name": "Python 3 (ipykernel)",
   "language": "python",
   "name": "python3"
  },
  "language_info": {
   "codemirror_mode": {
    "name": "ipython",
    "version": 3
   },
   "file_extension": ".py",
   "mimetype": "text/x-python",
   "name": "python",
   "nbconvert_exporter": "python",
   "pygments_lexer": "ipython3",
   "version": "3.11.4"
  }
 },
 "nbformat": 4,
 "nbformat_minor": 5
}

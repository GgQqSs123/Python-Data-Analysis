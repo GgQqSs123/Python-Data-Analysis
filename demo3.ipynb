{
 "cells": [
  {
   "cell_type": "markdown",
   "metadata": {},
   "source": [
    "#### 写出导入numpy的语句，并且给numpy别名为np。"
   ]
  },
  {
   "cell_type": "code",
   "execution_count": 7,
   "metadata": {},
   "outputs": [],
   "source": [
    "import numpy as np"
   ]
  },
  {
   "cell_type": "markdown",
   "metadata": {},
   "source": [
    "#### 创建一个变量名为`arr1`的一维数组，里面的元素为整数6、2、-7、2、8、-2、1。"
   ]
  },
  {
   "cell_type": "code",
   "execution_count": 11,
   "metadata": {},
   "outputs": [
    {
     "data": {
      "text/plain": [
       "array([ 6,  2, -7,  2,  8, -2,  1])"
      ]
     },
     "execution_count": 11,
     "metadata": {},
     "output_type": "execute_result"
    }
   ],
   "source": [
    "arr1=np.array([6,2,-7,2,8,-2,1])\n",
    "arr1"
   ]
  },
  {
   "cell_type": "markdown",
   "metadata": {},
   "source": [
    "#### 创建一个变量名为`arr2`的二维数组，里面的元素为以下两个数组：由整数1、3、5组成的一维数组，以及由整数2、4、6组成的一维数组。"
   ]
  },
  {
   "cell_type": "code",
   "execution_count": 12,
   "metadata": {},
   "outputs": [
    {
     "data": {
      "text/plain": [
       "array([[1, 3, 5],\n",
       "       [2, 4, 6]])"
      ]
     },
     "execution_count": 12,
     "metadata": {},
     "output_type": "execute_result"
    }
   ],
   "source": [
    "arr2=np.array([[1,3,5],[2,4,6]])\n",
    "arr2"
   ]
  },
  {
   "cell_type": "markdown",
   "metadata": {},
   "source": [
    "#### 分别打印`arr1`和`arr2`的维度、形状、元素数量、元素类型。"
   ]
  },
  {
   "cell_type": "code",
   "execution_count": 13,
   "metadata": {},
   "outputs": [
    {
     "name": "stdout",
     "output_type": "stream",
     "text": [
      "1\n",
      "(7,)\n",
      "7\n",
      "int32\n"
     ]
    }
   ],
   "source": [
    "print(arr1.ndim)\n",
    "print(arr1.shape)\n",
    "print(arr1.size)\n",
    "print(arr1.dtype)"
   ]
  },
  {
   "cell_type": "markdown",
   "metadata": {},
   "source": [
    "#### 创建一个变量名为`arr_all_0`的一维数组，里面的元素为6个0。"
   ]
  },
  {
   "cell_type": "code",
   "execution_count": 15,
   "metadata": {},
   "outputs": [
    {
     "data": {
      "text/plain": [
       "array([0., 0., 0., 0., 0., 0.])"
      ]
     },
     "execution_count": 15,
     "metadata": {},
     "output_type": "execute_result"
    }
   ],
   "source": [
    "arr_all_0= np.zeros(6)\n",
    "arr_all_0"
   ]
  },
  {
   "cell_type": "markdown",
   "metadata": {},
   "source": [
    "#### 创建一个变量名为`arr_all_1`的一维数组，里面的元素为6个1。"
   ]
  },
  {
   "cell_type": "code",
   "execution_count": 16,
   "metadata": {},
   "outputs": [
    {
     "data": {
      "text/plain": [
       "array([1., 1., 1., 1., 1., 1.])"
      ]
     },
     "execution_count": 16,
     "metadata": {},
     "output_type": "execute_result"
    }
   ],
   "source": [
    "arr_all_1=np.ones(6)\n",
    "arr_all_1"
   ]
  },
  {
   "cell_type": "markdown",
   "metadata": {},
   "source": [
    "#### 创建一个变量名为`arr_even`的一维数组，里面的元素为10（包括10）到20（包括20）之间的偶数。"
   ]
  },
  {
   "cell_type": "code",
   "execution_count": 18,
   "metadata": {},
   "outputs": [
    {
     "data": {
      "text/plain": [
       "array([10, 12, 14, 16, 18, 20])"
      ]
     },
     "execution_count": 18,
     "metadata": {},
     "output_type": "execute_result"
    }
   ],
   "source": [
    "arr_even=np.arange(10,21,2)\n",
    "arr_even"
   ]
  },
  {
   "cell_type": "code",
   "execution_count": 19,
   "metadata": {},
   "outputs": [
    {
     "data": {
      "text/plain": [
       "array([ 5., 17.,  3., 25.,  0.,  0.,  1.,  1.,  1.])"
      ]
     },
     "execution_count": 19,
     "metadata": {},
     "output_type": "execute_result"
    }
   ],
   "source": [
    "# 在一维数组添加新的元素 concatenate 函数接收的参数可以是列表\n",
    "import numpy as np\n",
    "arr1=np.array([5,17,3,25])\n",
    "arr2=np.zeros(2)\n",
    "arr3=np.ones(3)\n",
    "np.concatenate([arr1,arr2,arr3])\n"
   ]
  },
  {
   "cell_type": "code",
   "execution_count": 20,
   "metadata": {},
   "outputs": [
    {
     "name": "stdout",
     "output_type": "stream",
     "text": [
      "[ 3  5 17 25]\n",
      "[ 5 17  3 25]\n"
     ]
    }
   ],
   "source": [
    "# python列表sorted 调用后返回排序好的列表不改变原有的列表 sort函数什么都不返回，但原始列表会被排序好\n",
    "# numpy 里面两种sort方法 sort(arr1)不改变arr1 arr1.sort()什么都不返回\n",
    "import numpy as np\n",
    "arr1=np.array([5,17,3,25])\n",
    "print(np.sort(arr1)) \n",
    "print(arr1)"
   ]
  },
  {
   "cell_type": "code",
   "execution_count": 21,
   "metadata": {},
   "outputs": [
    {
     "name": "stdout",
     "output_type": "stream",
     "text": [
      "None\n",
      "[ 3  5 17 25]\n"
     ]
    }
   ],
   "source": [
    "import numpy as np\n",
    "arr1=np.array([5,17,3,25])\n",
    "print(arr1.sort()) \n",
    "print(arr1)"
   ]
  },
  {
   "cell_type": "code",
   "execution_count": 26,
   "metadata": {},
   "outputs": [
    {
     "data": {
      "text/plain": [
       "array([5])"
      ]
     },
     "execution_count": 26,
     "metadata": {},
     "output_type": "execute_result"
    }
   ],
   "source": [
    "# 通过索引获取元素正向01234 倒着 最后一个元素-1 -2 -3\n",
    "arr1[1:2]"
   ]
  },
  {
   "cell_type": "code",
   "execution_count": 29,
   "metadata": {},
   "outputs": [
    {
     "data": {
      "text/plain": [
       "12.5"
      ]
     },
     "execution_count": 29,
     "metadata": {},
     "output_type": "execute_result"
    }
   ],
   "source": [
    "# 数组和数字进行运算\n",
    "arr1.max()\n",
    "\n",
    "arr1.min()\n",
    "arr1.sum()\n",
    "arr1.mean()"
   ]
  },
  {
   "cell_type": "code",
   "execution_count": 33,
   "metadata": {},
   "outputs": [
    {
     "name": "stdout",
     "output_type": "stream",
     "text": [
      "[65  9 11  7]\n",
      "[9 7]\n"
     ]
    }
   ],
   "source": [
    "# numpy 广播机制根据条件筛选数组元素\n",
    "import numpy as np\n",
    "\n",
    "arr2 = np.array([-22, 3, 65, 9, 11, 7])\n",
    "filtered_arr = arr2[arr2 > 6]\n",
    "filtered_arr1=arr2[(arr2>6)&(arr2<10)]\n",
    "print(filtered_arr)\n",
    "print(filtered_arr1)"
   ]
  },
  {
   "cell_type": "code",
   "execution_count": null,
   "metadata": {},
   "outputs": [],
   "source": []
  }
 ],
 "metadata": {
  "kernelspec": {
   "display_name": "Python 3 (ipykernel)",
   "language": "python",
   "name": "python3"
  },
  "language_info": {
   "codemirror_mode": {
    "name": "ipython",
    "version": 3
   },
   "file_extension": ".py",
   "mimetype": "text/x-python",
   "name": "python",
   "nbconvert_exporter": "python",
   "pygments_lexer": "ipython3",
   "version": "3.11.4"
  }
 },
 "nbformat": 4,
 "nbformat_minor": 4
}

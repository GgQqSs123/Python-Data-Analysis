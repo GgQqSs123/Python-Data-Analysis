{
 "cells": [
  {
   "cell_type": "markdown",
   "id": "cbce844f",
   "metadata": {},
   "source": [
    "# 一级标题\n",
    "## 二级标题"
   ]
  },
  {
   "cell_type": "markdown",
   "id": "8084e036",
   "metadata": {},
   "source": [
    "# 我是**粗体字**"
   ]
  },
  {
   "cell_type": "markdown",
   "id": "0bf25d68",
   "metadata": {},
   "source": [
    "# 我是*斜体字*"
   ]
  },
  {
   "cell_type": "markdown",
   "id": "d2e8ad25",
   "metadata": {},
   "source": [
    "# 我被~~删除了~~"
   ]
  },
  {
   "cell_type": "markdown",
   "id": "de1eace5",
   "metadata": {},
   "source": [
    "# 无序列表\n",
    "- 1\n",
    "- 2\n",
    "- 3"
   ]
  },
  {
   "cell_type": "markdown",
   "id": "bd6daccd",
   "metadata": {},
   "source": [
    "有序列表\n",
    "1.\n",
    "2.\n",
    "3."
   ]
  },
  {
   "cell_type": "markdown",
   "id": "65462765",
   "metadata": {},
   "source": [
    "https://blog.csdn.net/m0_62443558/article/details/141529840"
   ]
  },
  {
   "cell_type": "markdown",
   "id": "d294704f",
   "metadata": {},
   "source": [
    "[jupyter notebook保存不了pdf解决办法](https://blog.csdn.net/m0_62443558/article/details/141529840)"
   ]
  },
  {
   "cell_type": "markdown",
   "id": "0ea2090c",
   "metadata": {},
   "source": [
    "![城市景观](https://img0.baidu.com/it/u=25183460,870873689&fm=253)"
   ]
  },
  {
   "cell_type": "markdown",
   "id": "485af945",
   "metadata": {},
   "source": [
    "> 蒹葭苍苍  \n",
    "白露为霜"
   ]
  },
  {
   "cell_type": "markdown",
   "id": "af11ce18",
   "metadata": {},
   "source": [
    "```\n",
    "import math\n",
    "print(\"Hello World!\")\n",
    "print(math.pi)\n",
    "```"
   ]
  },
  {
   "cell_type": "markdown",
   "id": "06fb8b7e",
   "metadata": {},
   "source": [
    "\n",
    "```\n",
    "import\n",
    "```"
   ]
  },
  {
   "cell_type": "markdown",
   "id": "6cd4e005",
   "metadata": {},
   "source": [
    "这是一个公式：$y = x + 3$"
   ]
  },
  {
   "cell_type": "markdown",
   "id": "8a96dd41",
   "metadata": {},
   "source": [
    "下面是独占一行的公式：$$y = x + 3$$"
   ]
  },
  {
   "cell_type": "markdown",
   "id": "8e1f7f33",
   "metadata": {},
   "source": [
    "$$x + y$$\n",
    "$$x - y$$\n",
    "$$x \\times y$$\n",
    "$$x \\div y$$"
   ]
  },
  {
   "cell_type": "markdown",
   "id": "f7a3a664",
   "metadata": {},
   "source": [
    "$$x^3$$\n",
    "$$H_2O$$\n",
    "$$S_{input}$$"
   ]
  },
  {
   "cell_type": "markdown",
   "id": "a8fd8865",
   "metadata": {},
   "source": [
    "$$\\sum (x^2 + y^2)$$ \n",
    "$$\\sqrt[3]x $$"
   ]
  },
  {
   "cell_type": "markdown",
   "id": "a1c7c3fc",
   "metadata": {},
   "source": [
    "$$\\sum (x^2 + y^2)$$ \n",
    "$$\\sqrt[3]{a^2m^2}$$"
   ]
  },
  {
   "cell_type": "markdown",
   "id": "abc35177",
   "metadata": {},
   "source": [
    "$$\\sqrt[3]{a^2m^2}$$"
   ]
  },
  {
   "cell_type": "markdown",
   "id": "7949a3df",
   "metadata": {},
   "source": [
    "$$\\sqrt[3]a^2m^2$$"
   ]
  },
  {
   "cell_type": "markdown",
   "id": "862edf88",
   "metadata": {},
   "source": [
    "$$\\frac{x+y}{x-y}$$"
   ]
  },
  {
   "cell_type": "code",
   "execution_count": 3,
   "id": "fcd6c30c",
   "metadata": {},
   "outputs": [],
   "source": [
    "# Latex"
   ]
  },
  {
   "cell_type": "code",
   "execution_count": null,
   "id": "76f4e55e",
   "metadata": {},
   "outputs": [],
   "source": []
  }
 ],
 "metadata": {
  "kernelspec": {
   "display_name": "Python 3 (ipykernel)",
   "language": "python",
   "name": "python3"
  },
  "language_info": {
   "codemirror_mode": {
    "name": "ipython",
    "version": 3
   },
   "file_extension": ".py",
   "mimetype": "text/x-python",
   "name": "python",
   "nbconvert_exporter": "python",
   "pygments_lexer": "ipython3",
   "version": "3.11.4"
  }
 },
 "nbformat": 4,
 "nbformat_minor": 5
}

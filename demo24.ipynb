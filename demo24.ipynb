{
 "cells": [
  {
   "cell_type": "code",
   "execution_count": 4,
   "id": "a51405b0-6df7-4f23-b9a9-6ab1009aa6ff",
   "metadata": {},
   "outputs": [],
   "source": [
    "import pandas as pd\n",
    "import numpy as np"
   ]
  },
  {
   "cell_type": "code",
   "execution_count": 2,
   "id": "0eb02197-70f9-4737-8d29-d21fb9610cd9",
   "metadata": {},
   "outputs": [
    {
     "data": {
      "text/html": [
       "<div>\n",
       "<style scoped>\n",
       "    .dataframe tbody tr th:only-of-type {\n",
       "        vertical-align: middle;\n",
       "    }\n",
       "\n",
       "    .dataframe tbody tr th {\n",
       "        vertical-align: top;\n",
       "    }\n",
       "\n",
       "    .dataframe thead th {\n",
       "        text-align: right;\n",
       "    }\n",
       "</style>\n",
       "<table border=\"1\" class=\"dataframe\">\n",
       "  <thead>\n",
       "    <tr style=\"text-align: right;\">\n",
       "      <th></th>\n",
       "      <th>姓名</th>\n",
       "      <th>体温</th>\n",
       "    </tr>\n",
       "  </thead>\n",
       "  <tbody>\n",
       "    <tr>\n",
       "      <th>0</th>\n",
       "      <td>Tom</td>\n",
       "      <td>37.8</td>\n",
       "    </tr>\n",
       "    <tr>\n",
       "      <th>1</th>\n",
       "      <td>Jerry</td>\n",
       "      <td>36.8</td>\n",
       "    </tr>\n",
       "    <tr>\n",
       "      <th>2</th>\n",
       "      <td>Lucy</td>\n",
       "      <td>37.0</td>\n",
       "    </tr>\n",
       "    <tr>\n",
       "      <th>3</th>\n",
       "      <td>Emma</td>\n",
       "      <td>37.2</td>\n",
       "    </tr>\n",
       "    <tr>\n",
       "      <th>4</th>\n",
       "      <td>John</td>\n",
       "      <td>36.6</td>\n",
       "    </tr>\n",
       "    <tr>\n",
       "      <th>5</th>\n",
       "      <td>Alice</td>\n",
       "      <td>37.0</td>\n",
       "    </tr>\n",
       "    <tr>\n",
       "      <th>6</th>\n",
       "      <td>Bob</td>\n",
       "      <td>37.0</td>\n",
       "    </tr>\n",
       "    <tr>\n",
       "      <th>7</th>\n",
       "      <td>David</td>\n",
       "      <td>36.1</td>\n",
       "    </tr>\n",
       "    <tr>\n",
       "      <th>8</th>\n",
       "      <td>Sam</td>\n",
       "      <td>37.5</td>\n",
       "    </tr>\n",
       "    <tr>\n",
       "      <th>9</th>\n",
       "      <td>Alex</td>\n",
       "      <td>37.3</td>\n",
       "    </tr>\n",
       "    <tr>\n",
       "      <th>10</th>\n",
       "      <td>Lisa</td>\n",
       "      <td>36.7</td>\n",
       "    </tr>\n",
       "    <tr>\n",
       "      <th>11</th>\n",
       "      <td>Frank</td>\n",
       "      <td>36.9</td>\n",
       "    </tr>\n",
       "    <tr>\n",
       "      <th>12</th>\n",
       "      <td>Grace</td>\n",
       "      <td>37.3</td>\n",
       "    </tr>\n",
       "    <tr>\n",
       "      <th>13</th>\n",
       "      <td>Mary</td>\n",
       "      <td>36.9</td>\n",
       "    </tr>\n",
       "    <tr>\n",
       "      <th>14</th>\n",
       "      <td>Ben</td>\n",
       "      <td>36.9</td>\n",
       "    </tr>\n",
       "    <tr>\n",
       "      <th>15</th>\n",
       "      <td>Kate</td>\n",
       "      <td>36.3</td>\n",
       "    </tr>\n",
       "    <tr>\n",
       "      <th>16</th>\n",
       "      <td>Oliver</td>\n",
       "      <td>37.3</td>\n",
       "    </tr>\n",
       "    <tr>\n",
       "      <th>17</th>\n",
       "      <td>Sophie</td>\n",
       "      <td>37.1</td>\n",
       "    </tr>\n",
       "    <tr>\n",
       "      <th>18</th>\n",
       "      <td>Ella</td>\n",
       "      <td>37.1</td>\n",
       "    </tr>\n",
       "    <tr>\n",
       "      <th>19</th>\n",
       "      <td>Hannah</td>\n",
       "      <td>36.2</td>\n",
       "    </tr>\n",
       "    <tr>\n",
       "      <th>20</th>\n",
       "      <td>James</td>\n",
       "      <td>37.8</td>\n",
       "    </tr>\n",
       "    <tr>\n",
       "      <th>21</th>\n",
       "      <td>Leo</td>\n",
       "      <td>37.1</td>\n",
       "    </tr>\n",
       "    <tr>\n",
       "      <th>22</th>\n",
       "      <td>Luke</td>\n",
       "      <td>36.8</td>\n",
       "    </tr>\n",
       "    <tr>\n",
       "      <th>23</th>\n",
       "      <td>Max</td>\n",
       "      <td>38.0</td>\n",
       "    </tr>\n",
       "    <tr>\n",
       "      <th>24</th>\n",
       "      <td>Mia</td>\n",
       "      <td>37.0</td>\n",
       "    </tr>\n",
       "    <tr>\n",
       "      <th>25</th>\n",
       "      <td>Noah</td>\n",
       "      <td>36.3</td>\n",
       "    </tr>\n",
       "    <tr>\n",
       "      <th>26</th>\n",
       "      <td>Peter</td>\n",
       "      <td>36.8</td>\n",
       "    </tr>\n",
       "    <tr>\n",
       "      <th>27</th>\n",
       "      <td>Sarah</td>\n",
       "      <td>39.2</td>\n",
       "    </tr>\n",
       "    <tr>\n",
       "      <th>28</th>\n",
       "      <td>Tim</td>\n",
       "      <td>38.6</td>\n",
       "    </tr>\n",
       "  </tbody>\n",
       "</table>\n",
       "</div>"
      ],
      "text/plain": [
       "        姓名    体温\n",
       "0      Tom  37.8\n",
       "1    Jerry  36.8\n",
       "2     Lucy  37.0\n",
       "3     Emma  37.2\n",
       "4     John  36.6\n",
       "5    Alice  37.0\n",
       "6      Bob  37.0\n",
       "7    David  36.1\n",
       "8      Sam  37.5\n",
       "9     Alex  37.3\n",
       "10    Lisa  36.7\n",
       "11   Frank  36.9\n",
       "12   Grace  37.3\n",
       "13    Mary  36.9\n",
       "14     Ben  36.9\n",
       "15    Kate  36.3\n",
       "16  Oliver  37.3\n",
       "17  Sophie  37.1\n",
       "18    Ella  37.1\n",
       "19  Hannah  36.2\n",
       "20   James  37.8\n",
       "21     Leo  37.1\n",
       "22    Luke  36.8\n",
       "23     Max  38.0\n",
       "24     Mia  37.0\n",
       "25    Noah  36.3\n",
       "26   Peter  36.8\n",
       "27   Sarah  39.2\n",
       "28     Tim  38.6"
      ]
     },
     "execution_count": 2,
     "metadata": {},
     "output_type": "execute_result"
    }
   ],
   "source": [
    "df1 = pd.read_csv(\"temperature.csv\")\n",
    "df1"
   ]
  },
  {
   "cell_type": "markdown",
   "id": "64310084-a426-48c8-86ca-700957caa81c",
   "metadata": {},
   "source": [
    "## 集中趋势"
   ]
  },
  {
   "cell_type": "code",
   "execution_count": 5,
   "id": "01ee0da5-18c5-479a-ae98-f1abf87dfdca",
   "metadata": {},
   "outputs": [
    {
     "data": {
      "text/plain": [
       "37.12413793103448"
      ]
     },
     "execution_count": 5,
     "metadata": {},
     "output_type": "execute_result"
    }
   ],
   "source": [
    "# 计算“体温”列的平均数\n",
    "\n",
    "df1[\"体温\"].mean()"
   ]
  },
  {
   "cell_type": "code",
   "execution_count": 6,
   "id": "e55e4bf9-ac38-4fe1-bbc5-6380560da6f2",
   "metadata": {},
   "outputs": [
    {
     "data": {
      "text/plain": [
       "37.0"
      ]
     },
     "execution_count": 6,
     "metadata": {},
     "output_type": "execute_result"
    }
   ],
   "source": [
    "# 计算“体温”列的中位数\n",
    "\n",
    "df1[\"体温\"].median()"
   ]
  },
  {
   "cell_type": "code",
   "execution_count": 7,
   "id": "f63aab55-676c-4568-a71e-d77d9641b56b",
   "metadata": {},
   "outputs": [
    {
     "data": {
      "text/plain": [
       "0    37.0\n",
       "Name: 体温, dtype: float64"
      ]
     },
     "execution_count": 7,
     "metadata": {},
     "output_type": "execute_result"
    }
   ],
   "source": [
    "# 计算“体温”列的众数\n",
    "\n",
    "df1[\"体温\"].mode()"
   ]
  },
  {
   "cell_type": "markdown",
   "id": "7c3907f3-635a-4b4f-a377-1e79a62876ef",
   "metadata": {},
   "source": [
    "## 离散趋势"
   ]
  },
  {
   "cell_type": "code",
   "execution_count": 9,
   "id": "667439a8-1ddc-45a6-ac3d-48a537db2109",
   "metadata": {},
   "outputs": [
    {
     "data": {
      "text/plain": [
       "3.1000000000000014"
      ]
     },
     "execution_count": 9,
     "metadata": {},
     "output_type": "execute_result"
    }
   ],
   "source": [
    "# 用Series的min和max方法计算“体温”列的极差\n",
    "# 极差等于最大值减最小值\n",
    "df1['体温'].max()-df1['体温'].min()\n"
   ]
  },
  {
   "cell_type": "code",
   "execution_count": 10,
   "id": "0004da3d-1242-4cda-800e-4605bae6f5ab",
   "metadata": {},
   "outputs": [
    {
     "data": {
      "text/plain": [
       "3.1000000000000014"
      ]
     },
     "execution_count": 10,
     "metadata": {},
     "output_type": "execute_result"
    }
   ],
   "source": [
    "# 用NumPy数组的ptp方法计算“体温”列的平均数\n",
    "np.array(df1[\"体温\"]).ptp()\n"
   ]
  },
  {
   "cell_type": "code",
   "execution_count": 11,
   "id": "eb45eb08-2ca0-4829-b5cb-ba9df05db35a",
   "metadata": {},
   "outputs": [
    {
     "data": {
      "text/plain": [
       "0.4518965517241382"
      ]
     },
     "execution_count": 11,
     "metadata": {},
     "output_type": "execute_result"
    }
   ],
   "source": [
    "# 计算“体温”列的方差 var求方差\n",
    "df1[\"体温\"].var()\n"
   ]
  },
  {
   "cell_type": "code",
   "execution_count": 12,
   "id": "f514d1be-2603-4d0a-883e-0785ce806532",
   "metadata": {},
   "outputs": [
    {
     "data": {
      "text/plain": [
       "0.6722325131412034"
      ]
     },
     "execution_count": 12,
     "metadata": {},
     "output_type": "execute_result"
    }
   ],
   "source": [
    "# 计算“体温”列的标准差\n",
    "df1[\"体温\"].std()"
   ]
  },
  {
   "cell_type": "code",
   "execution_count": 14,
   "id": "3478cc4f-21f3-49c2-8a56-ece433d6af58",
   "metadata": {},
   "outputs": [
    {
     "data": {
      "text/plain": [
       "0.5"
      ]
     },
     "execution_count": 14,
     "metadata": {},
     "output_type": "execute_result"
    }
   ],
   "source": [
    "# 计算“体温”列的四分位距\n",
    "\n",
    "q1=df1[\"体温\"].quantile(0.25)\n",
    "q3=df1[\"体温\"].quantile(0.75)\n",
    "q3-q1"
   ]
  },
  {
   "cell_type": "markdown",
   "id": "0f509599-2f17-460c-a3f3-126d4770d37d",
   "metadata": {},
   "source": [
    "## 分布形状"
   ]
  },
  {
   "cell_type": "code",
   "execution_count": 16,
   "id": "eb57e32b-a3c6-49ff-b782-e4c6bd49a6cf",
   "metadata": {},
   "outputs": [
    {
     "data": {
      "text/plain": [
       "<Axes: ylabel='Frequency'>"
      ]
     },
     "execution_count": 16,
     "metadata": {},
     "output_type": "execute_result"
    },
    {
     "data": {
      "image/png": "[encoded data removed]",
      "text/plain": [
       "<Figure size 640x480 with 1 Axes>"
      ]
     },
     "metadata": {},
     "output_type": "display_data"
    }
   ],
   "source": [
    "# 绘制“体温”列的直方图\n",
    "\n",
    "df1['体温'].plot(kind='hist')"
   ]
  },
  {
   "cell_type": "code",
   "execution_count": null,
   "id": "354a6ba0-bc61-4fac-aeae-a3e28a263de7",
   "metadata": {},
   "outputs": [],
   "source": []
  }
 ],
 "metadata": {
  "kernelspec": {
   "display_name": "Python 3 (ipykernel)",
   "language": "python",
   "name": "python3"
  },
  "language_info": {
   "codemirror_mode": {
    "name": "ipython",
    "version": 3
   },
   "file_extension": ".py",
   "mimetype": "text/x-python",
   "name": "python",
   "nbconvert_exporter": "python",
   "pygments_lexer": "ipython3",
   "version": "3.11.4"
  }
 },
 "nbformat": 4,
 "nbformat_minor": 5
}
